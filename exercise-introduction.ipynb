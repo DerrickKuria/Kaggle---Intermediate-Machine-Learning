{
 "cells": [
  {
   "cell_type": "markdown",
   "id": "e4486f27",
   "metadata": {
    "papermill": {
     "duration": 0.021001,
     "end_time": "2022-03-29T12:40:35.653951",
     "exception": false,
     "start_time": "2022-03-29T12:40:35.632950",
     "status": "completed"
    },
    "tags": []
   },
   "source": [
    "**This notebook is an exercise in the [Intermediate Machine Learning](https://www.kaggle.com/learn/intermediate-machine-learning) course.  You can reference the tutorial at [this link](https://www.kaggle.com/alexisbcook/introduction).**\n",
    "\n",
    "---\n"
   ]
  },
  {
   "cell_type": "markdown",
   "id": "e69346c9",
   "metadata": {
    "papermill": {
     "duration": 0.018808,
     "end_time": "2022-03-29T12:40:35.692259",
     "exception": false,
     "start_time": "2022-03-29T12:40:35.673451",
     "status": "completed"
    },
    "tags": []
   },
   "source": [
    "As a warm-up, you'll review some machine learning fundamentals and submit your initial results to a Kaggle competition.\n",
    "\n",
    "# Setup\n",
    "\n",
    "The questions below will give you feedback on your work. Run the following cell to set up the feedback system."
   ]
  },
  {
   "cell_type": "code",
   "execution_count": 1,
   "id": "fc566590",
   "metadata": {
    "execution": {
     "iopub.execute_input": "2022-03-29T12:40:35.736696Z",
     "iopub.status.busy": "2022-03-29T12:40:35.734927Z",
     "iopub.status.idle": "2022-03-29T12:40:37.042548Z",
     "shell.execute_reply": "2022-03-29T12:40:37.043108Z",
     "shell.execute_reply.started": "2022-03-29T12:35:28.217173Z"
    },
    "papermill": {
     "duration": 1.332078,
     "end_time": "2022-03-29T12:40:37.043401",
     "exception": false,
     "start_time": "2022-03-29T12:40:35.711323",
     "status": "completed"
    },
    "tags": []
   },
   "outputs": [
    {
     "name": "stdout",
     "output_type": "stream",
     "text": [
      "Setup Complete\n"
     ]
    }
   ],
   "source": [
    "# Set up code checking\n",
    "import os\n",
    "if not os.path.exists(\"../input/train.csv\"):\n",
    "    os.symlink(\"../input/home-data-for-ml-course/train.csv\", \"../input/train.csv\")  \n",
    "    os.symlink(\"../input/home-data-for-ml-course/test.csv\", \"../input/test.csv\")  \n",
    "from learntools.core import binder\n",
    "binder.bind(globals())\n",
    "from learntools.ml_intermediate.ex1 import *\n",
    "print(\"Setup Complete\")"
   ]
  },
  {
   "cell_type": "markdown",
   "id": "ea9534b9",
   "metadata": {
    "papermill": {
     "duration": 0.019402,
     "end_time": "2022-03-29T12:40:37.082950",
     "exception": false,
     "start_time": "2022-03-29T12:40:37.063548",
     "status": "completed"
    },
    "tags": []
   },
   "source": [
    "You will work with data from the [Housing Prices Competition for Kaggle Learn Users](https://www.kaggle.com/c/home-data-for-ml-course) to predict home prices in Iowa using 79 explanatory variables describing (almost) every aspect of the homes.  \n",
    "\n",
    "![Ames Housing dataset image](https://i.imgur.com/lTJVG4e.png)\n",
    "\n",
    "Run the next code cell without changes to load the training and validation features in `X_train` and `X_valid`, along with the prediction targets in `y_train` and `y_valid`.  The test features are loaded in `X_test`.  (_If you need to review **features** and **prediction targets**, please check out [this short tutorial](https://www.kaggle.com/dansbecker/your-first-machine-learning-model).  To read about model **validation**, look [here](https://www.kaggle.com/dansbecker/model-validation).  Alternatively, if you'd prefer to look through a full course to review all of these topics, start [here](https://www.kaggle.com/learn/machine-learning).)_"
   ]
  },
  {
   "cell_type": "code",
   "execution_count": 2,
   "id": "6523ef04",
   "metadata": {
    "execution": {
     "iopub.execute_input": "2022-03-29T12:40:37.125910Z",
     "iopub.status.busy": "2022-03-29T12:40:37.124912Z",
     "iopub.status.idle": "2022-03-29T12:40:37.217721Z",
     "shell.execute_reply": "2022-03-29T12:40:37.218215Z",
     "shell.execute_reply.started": "2022-03-29T12:35:54.158493Z"
    },
    "papermill": {
     "duration": 0.115805,
     "end_time": "2022-03-29T12:40:37.218401",
     "exception": false,
     "start_time": "2022-03-29T12:40:37.102596",
     "status": "completed"
    },
    "tags": []
   },
   "outputs": [],
   "source": [
    "import pandas as pd\n",
    "from sklearn.model_selection import train_test_split\n",
    "\n",
    "# Read the data\n",
    "X_full = pd.read_csv('../input/train.csv', index_col='Id')\n",
    "X_test_full = pd.read_csv('../input/test.csv', index_col='Id')\n",
    "\n",
    "# Obtain target and predictors\n",
    "y = X_full.SalePrice\n",
    "features = ['LotArea', 'YearBuilt', '1stFlrSF', '2ndFlrSF', 'FullBath', 'BedroomAbvGr', 'TotRmsAbvGrd']\n",
    "X = X_full[features].copy()\n",
    "X_test = X_test_full[features].copy()\n",
    "\n",
    "# Break off validation set from training data\n",
    "X_train, X_valid, y_train, y_valid = train_test_split(X, y, train_size=0.8, test_size=0.2,\n",
    "                                                      random_state=0)"
   ]
  },
  {
   "cell_type": "markdown",
   "id": "777aef39",
   "metadata": {
    "papermill": {
     "duration": 0.020602,
     "end_time": "2022-03-29T12:40:37.259325",
     "exception": false,
     "start_time": "2022-03-29T12:40:37.238723",
     "status": "completed"
    },
    "tags": []
   },
   "source": [
    "Use the next cell to print the first several rows of the data. It's a nice way to get an overview of the data you will use in your price prediction model."
   ]
  },
  {
   "cell_type": "code",
   "execution_count": 3,
   "id": "d09b5e6c",
   "metadata": {
    "execution": {
     "iopub.execute_input": "2022-03-29T12:40:37.304971Z",
     "iopub.status.busy": "2022-03-29T12:40:37.303920Z",
     "iopub.status.idle": "2022-03-29T12:40:37.321691Z",
     "shell.execute_reply": "2022-03-29T12:40:37.322267Z",
     "shell.execute_reply.started": "2022-03-29T12:36:05.529347Z"
    },
    "papermill": {
     "duration": 0.042518,
     "end_time": "2022-03-29T12:40:37.322495",
     "exception": false,
     "start_time": "2022-03-29T12:40:37.279977",
     "status": "completed"
    },
    "tags": []
   },
   "outputs": [
    {
     "data": {
      "text/html": [
       "<div>\n",
       "<style scoped>\n",
       "    .dataframe tbody tr th:only-of-type {\n",
       "        vertical-align: middle;\n",
       "    }\n",
       "\n",
       "    .dataframe tbody tr th {\n",
       "        vertical-align: top;\n",
       "    }\n",
       "\n",
       "    .dataframe thead th {\n",
       "        text-align: right;\n",
       "    }\n",
       "</style>\n",
       "<table border=\"1\" class=\"dataframe\">\n",
       "  <thead>\n",
       "    <tr style=\"text-align: right;\">\n",
       "      <th></th>\n",
       "      <th>LotArea</th>\n",
       "      <th>YearBuilt</th>\n",
       "      <th>1stFlrSF</th>\n",
       "      <th>2ndFlrSF</th>\n",
       "      <th>FullBath</th>\n",
       "      <th>BedroomAbvGr</th>\n",
       "      <th>TotRmsAbvGrd</th>\n",
       "    </tr>\n",
       "    <tr>\n",
       "      <th>Id</th>\n",
       "      <th></th>\n",
       "      <th></th>\n",
       "      <th></th>\n",
       "      <th></th>\n",
       "      <th></th>\n",
       "      <th></th>\n",
       "      <th></th>\n",
       "    </tr>\n",
       "  </thead>\n",
       "  <tbody>\n",
       "    <tr>\n",
       "      <th>619</th>\n",
       "      <td>11694</td>\n",
       "      <td>2007</td>\n",
       "      <td>1828</td>\n",
       "      <td>0</td>\n",
       "      <td>2</td>\n",
       "      <td>3</td>\n",
       "      <td>9</td>\n",
       "    </tr>\n",
       "    <tr>\n",
       "      <th>871</th>\n",
       "      <td>6600</td>\n",
       "      <td>1962</td>\n",
       "      <td>894</td>\n",
       "      <td>0</td>\n",
       "      <td>1</td>\n",
       "      <td>2</td>\n",
       "      <td>5</td>\n",
       "    </tr>\n",
       "    <tr>\n",
       "      <th>93</th>\n",
       "      <td>13360</td>\n",
       "      <td>1921</td>\n",
       "      <td>964</td>\n",
       "      <td>0</td>\n",
       "      <td>1</td>\n",
       "      <td>2</td>\n",
       "      <td>5</td>\n",
       "    </tr>\n",
       "    <tr>\n",
       "      <th>818</th>\n",
       "      <td>13265</td>\n",
       "      <td>2002</td>\n",
       "      <td>1689</td>\n",
       "      <td>0</td>\n",
       "      <td>2</td>\n",
       "      <td>3</td>\n",
       "      <td>7</td>\n",
       "    </tr>\n",
       "    <tr>\n",
       "      <th>303</th>\n",
       "      <td>13704</td>\n",
       "      <td>2001</td>\n",
       "      <td>1541</td>\n",
       "      <td>0</td>\n",
       "      <td>2</td>\n",
       "      <td>3</td>\n",
       "      <td>6</td>\n",
       "    </tr>\n",
       "  </tbody>\n",
       "</table>\n",
       "</div>"
      ],
      "text/plain": [
       "     LotArea  YearBuilt  1stFlrSF  2ndFlrSF  FullBath  BedroomAbvGr  \\\n",
       "Id                                                                    \n",
       "619    11694       2007      1828         0         2             3   \n",
       "871     6600       1962       894         0         1             2   \n",
       "93     13360       1921       964         0         1             2   \n",
       "818    13265       2002      1689         0         2             3   \n",
       "303    13704       2001      1541         0         2             3   \n",
       "\n",
       "     TotRmsAbvGrd  \n",
       "Id                 \n",
       "619             9  \n",
       "871             5  \n",
       "93              5  \n",
       "818             7  \n",
       "303             6  "
      ]
     },
     "execution_count": 3,
     "metadata": {},
     "output_type": "execute_result"
    }
   ],
   "source": [
    "X_train.head()"
   ]
  },
  {
   "cell_type": "markdown",
   "id": "b02b9cf2",
   "metadata": {
    "papermill": {
     "duration": 0.02123,
     "end_time": "2022-03-29T12:40:37.365478",
     "exception": false,
     "start_time": "2022-03-29T12:40:37.344248",
     "status": "completed"
    },
    "tags": []
   },
   "source": [
    "The next code cell defines five different random forest models.  Run this code cell without changes.  (_To review **random forests**, look [here](https://www.kaggle.com/dansbecker/random-forests)._)"
   ]
  },
  {
   "cell_type": "code",
   "execution_count": 4,
   "id": "ad260930",
   "metadata": {
    "execution": {
     "iopub.execute_input": "2022-03-29T12:40:37.415599Z",
     "iopub.status.busy": "2022-03-29T12:40:37.414543Z",
     "iopub.status.idle": "2022-03-29T12:40:37.416540Z",
     "shell.execute_reply": "2022-03-29T12:40:37.417193Z",
     "shell.execute_reply.started": "2022-03-29T12:36:17.463631Z"
    },
    "papermill": {
     "duration": 0.030695,
     "end_time": "2022-03-29T12:40:37.417365",
     "exception": false,
     "start_time": "2022-03-29T12:40:37.386670",
     "status": "completed"
    },
    "tags": []
   },
   "outputs": [],
   "source": [
    "from sklearn.ensemble import RandomForestRegressor\n",
    "\n",
    "# Define the models\n",
    "model_1 = RandomForestRegressor(n_estimators=50, random_state=0)\n",
    "model_2 = RandomForestRegressor(n_estimators=100, random_state=0)\n",
    "model_3 = RandomForestRegressor(n_estimators=100, criterion='mae', random_state=0)\n",
    "model_4 = RandomForestRegressor(n_estimators=200, min_samples_split=20, random_state=0)\n",
    "model_5 = RandomForestRegressor(n_estimators=100, max_depth=7, random_state=0)\n",
    "model_6 = RandomForestRegressor(n_estimators=100, criterion='squared_error', min_samples_split=2,max_depth =20, random_state=0)\n",
    "models = [model_1, model_2, model_3, model_4, model_5, model_6]"
   ]
  },
  {
   "cell_type": "markdown",
   "id": "550b05da",
   "metadata": {
    "papermill": {
     "duration": 0.020376,
     "end_time": "2022-03-29T12:40:37.458668",
     "exception": false,
     "start_time": "2022-03-29T12:40:37.438292",
     "status": "completed"
    },
    "tags": []
   },
   "source": [
    "To select the best model out of the five, we define a function `score_model()` below.  This function returns the mean absolute error (MAE) from the validation set.  Recall that the best model will obtain the lowest MAE.  (_To review **mean absolute error**, look [here](https://www.kaggle.com/dansbecker/model-validation).)_\n",
    "\n",
    "Run the code cell without changes."
   ]
  },
  {
   "cell_type": "code",
   "execution_count": 5,
   "id": "5a9c0dad",
   "metadata": {
    "execution": {
     "iopub.execute_input": "2022-03-29T12:40:37.504156Z",
     "iopub.status.busy": "2022-03-29T12:40:37.503193Z",
     "iopub.status.idle": "2022-03-29T12:40:42.730037Z",
     "shell.execute_reply": "2022-03-29T12:40:42.731013Z",
     "shell.execute_reply.started": "2022-03-29T12:37:02.981528Z"
    },
    "papermill": {
     "duration": 5.251918,
     "end_time": "2022-03-29T12:40:42.731318",
     "exception": false,
     "start_time": "2022-03-29T12:40:37.479400",
     "status": "completed"
    },
    "tags": []
   },
   "outputs": [
    {
     "name": "stdout",
     "output_type": "stream",
     "text": [
      "Model 1 MAE: 24015\n",
      "Model 2 MAE: 23740\n"
     ]
    },
    {
     "name": "stderr",
     "output_type": "stream",
     "text": [
      "/opt/conda/lib/python3.7/site-packages/sklearn/ensemble/_forest.py:399: FutureWarning: Criterion 'mae' was deprecated in v1.0 and will be removed in version 1.2. Use `criterion='absolute_error'` which is equivalent.\n",
      "  FutureWarning,\n"
     ]
    },
    {
     "name": "stdout",
     "output_type": "stream",
     "text": [
      "Model 3 MAE: 23528\n",
      "Model 4 MAE: 23996\n",
      "Model 5 MAE: 23706\n",
      "Model 6 MAE: 23897\n"
     ]
    }
   ],
   "source": [
    "from sklearn.metrics import mean_absolute_error\n",
    "\n",
    "# Function for comparing different models\n",
    "def score_model(model, X_t=X_train, X_v=X_valid, y_t=y_train, y_v=y_valid):\n",
    "    model.fit(X_t, y_t)\n",
    "    preds = model.predict(X_v)\n",
    "    return mean_absolute_error(y_v, preds)\n",
    "\n",
    "for i in range(0, len(models)):\n",
    "    mae = score_model(models[i])\n",
    "    print(\"Model %d MAE: %d\" % (i+1, mae))"
   ]
  },
  {
   "cell_type": "markdown",
   "id": "3405f5f6",
   "metadata": {
    "papermill": {
     "duration": 0.022159,
     "end_time": "2022-03-29T12:40:42.777683",
     "exception": false,
     "start_time": "2022-03-29T12:40:42.755524",
     "status": "completed"
    },
    "tags": []
   },
   "source": [
    "# Step 1: Evaluate several models\n",
    "\n",
    "Use the above results to fill in the line below.  Which model is the best model?  Your answer should be one of `model_1`, `model_2`, `model_3`, `model_4`, or `model_5`."
   ]
  },
  {
   "cell_type": "code",
   "execution_count": 6,
   "id": "6f21253a",
   "metadata": {
    "execution": {
     "iopub.execute_input": "2022-03-29T12:40:42.829101Z",
     "iopub.status.busy": "2022-03-29T12:40:42.828113Z",
     "iopub.status.idle": "2022-03-29T12:40:42.835878Z",
     "shell.execute_reply": "2022-03-29T12:40:42.836423Z",
     "shell.execute_reply.started": "2022-03-29T12:38:02.063060Z"
    },
    "papermill": {
     "duration": 0.035747,
     "end_time": "2022-03-29T12:40:42.836591",
     "exception": false,
     "start_time": "2022-03-29T12:40:42.800844",
     "status": "completed"
    },
    "tags": []
   },
   "outputs": [
    {
     "data": {
      "application/javascript": [
       "parent.postMessage({\"jupyterEvent\": \"custom.exercise_interaction\", \"data\": {\"outcomeType\": 1, \"valueTowardsCompletion\": 0.5, \"interactionType\": 1, \"questionType\": 2, \"questionId\": \"1_BestModel\", \"learnToolsVersion\": \"0.3.4\", \"failureMessage\": \"\", \"exceptionClass\": \"\", \"trace\": \"\"}}, \"*\")"
      ],
      "text/plain": [
       "<IPython.core.display.Javascript object>"
      ]
     },
     "metadata": {},
     "output_type": "display_data"
    },
    {
     "data": {
      "text/markdown": [
       "<span style=\"color:#33cc33\">Correct</span>"
      ],
      "text/plain": [
       "Correct"
      ]
     },
     "metadata": {},
     "output_type": "display_data"
    }
   ],
   "source": [
    "# Fill in the best model\n",
    "best_model = model_3\n",
    "\n",
    "# Check your answer\n",
    "step_1.check()"
   ]
  },
  {
   "cell_type": "code",
   "execution_count": 7,
   "id": "4dbccae7",
   "metadata": {
    "execution": {
     "iopub.execute_input": "2022-03-29T12:40:42.887479Z",
     "iopub.status.busy": "2022-03-29T12:40:42.886492Z",
     "iopub.status.idle": "2022-03-29T12:40:42.897585Z",
     "shell.execute_reply": "2022-03-29T12:40:42.898217Z",
     "shell.execute_reply.started": "2022-03-29T12:38:15.022518Z"
    },
    "papermill": {
     "duration": 0.03824,
     "end_time": "2022-03-29T12:40:42.898386",
     "exception": false,
     "start_time": "2022-03-29T12:40:42.860146",
     "status": "completed"
    },
    "tags": []
   },
   "outputs": [
    {
     "data": {
      "application/javascript": [
       "parent.postMessage({\"jupyterEvent\": \"custom.exercise_interaction\", \"data\": {\"interactionType\": 2, \"questionType\": 2, \"questionId\": \"1_BestModel\", \"learnToolsVersion\": \"0.3.4\", \"valueTowardsCompletion\": 0.0, \"failureMessage\": \"\", \"exceptionClass\": \"\", \"trace\": \"\", \"outcomeType\": 4}}, \"*\")"
      ],
      "text/plain": [
       "<IPython.core.display.Javascript object>"
      ]
     },
     "metadata": {},
     "output_type": "display_data"
    },
    {
     "data": {
      "text/markdown": [
       "<span style=\"color:#3366cc\">Hint:</span> Which model gets the lowest MAE score?"
      ],
      "text/plain": [
       "Hint: Which model gets the lowest MAE score?"
      ]
     },
     "metadata": {},
     "output_type": "display_data"
    },
    {
     "data": {
      "application/javascript": [
       "parent.postMessage({\"jupyterEvent\": \"custom.exercise_interaction\", \"data\": {\"interactionType\": 3, \"questionType\": 2, \"questionId\": \"1_BestModel\", \"learnToolsVersion\": \"0.3.4\", \"valueTowardsCompletion\": 0.0, \"failureMessage\": \"\", \"exceptionClass\": \"\", \"trace\": \"\", \"outcomeType\": 4}}, \"*\")"
      ],
      "text/plain": [
       "<IPython.core.display.Javascript object>"
      ]
     },
     "metadata": {},
     "output_type": "display_data"
    },
    {
     "data": {
      "text/markdown": [
       "<span style=\"color:#33cc99\">Solution:</span> \n",
       "```python\n",
       "best_model = model_3\n",
       "\n",
       "```"
      ],
      "text/plain": [
       "Solution: \n",
       "```python\n",
       "best_model = model_3\n",
       "\n",
       "```"
      ]
     },
     "metadata": {},
     "output_type": "display_data"
    }
   ],
   "source": [
    "# Lines below will give you a hint or solution code\n",
    "step_1.hint()\n",
    "\n",
    "step_1.solution()"
   ]
  },
  {
   "cell_type": "markdown",
   "id": "31a8eb58",
   "metadata": {
    "papermill": {
     "duration": 0.026045,
     "end_time": "2022-03-29T12:40:42.951215",
     "exception": false,
     "start_time": "2022-03-29T12:40:42.925170",
     "status": "completed"
    },
    "tags": []
   },
   "source": [
    "# Step 2: Generate test predictions\n",
    "\n",
    "Great. You know how to evaluate what makes an accurate model. Now it's time to go through the modeling process and make predictions. In the line below, create a Random Forest model with the variable name `my_model`."
   ]
  },
  {
   "cell_type": "code",
   "execution_count": 8,
   "id": "4b30c737",
   "metadata": {
    "execution": {
     "iopub.execute_input": "2022-03-29T12:40:43.008443Z",
     "iopub.status.busy": "2022-03-29T12:40:43.007406Z",
     "iopub.status.idle": "2022-03-29T12:40:43.116205Z",
     "shell.execute_reply": "2022-03-29T12:40:43.116672Z",
     "shell.execute_reply.started": "2022-03-29T12:39:10.448282Z"
    },
    "papermill": {
     "duration": 0.138841,
     "end_time": "2022-03-29T12:40:43.116889",
     "exception": false,
     "start_time": "2022-03-29T12:40:42.978048",
     "status": "completed"
    },
    "tags": []
   },
   "outputs": [
    {
     "data": {
      "application/javascript": [
       "parent.postMessage({\"jupyterEvent\": \"custom.exercise_interaction\", \"data\": {\"outcomeType\": 1, \"valueTowardsCompletion\": 0.5, \"interactionType\": 1, \"questionType\": 2, \"questionId\": \"2_Predictions\", \"learnToolsVersion\": \"0.3.4\", \"failureMessage\": \"\", \"exceptionClass\": \"\", \"trace\": \"\"}}, \"*\")"
      ],
      "text/plain": [
       "<IPython.core.display.Javascript object>"
      ]
     },
     "metadata": {},
     "output_type": "display_data"
    },
    {
     "data": {
      "text/markdown": [
       "<span style=\"color:#33cc33\">Correct</span>"
      ],
      "text/plain": [
       "Correct"
      ]
     },
     "metadata": {},
     "output_type": "display_data"
    }
   ],
   "source": [
    "# Define a model\n",
    "\n",
    "from xgboost import XGBRegressor\n",
    "\n",
    "my_model = RandomForestRegressor()\n",
    "# Check your answer\n",
    "step_2.check()"
   ]
  },
  {
   "cell_type": "code",
   "execution_count": 9,
   "id": "d3e6613d",
   "metadata": {
    "execution": {
     "iopub.execute_input": "2022-03-29T12:40:43.176200Z",
     "iopub.status.busy": "2022-03-29T12:40:43.175205Z",
     "iopub.status.idle": "2022-03-29T12:40:43.185879Z",
     "shell.execute_reply": "2022-03-29T12:40:43.186461Z",
     "shell.execute_reply.started": "2022-03-26T10:31:57.496741Z"
    },
    "papermill": {
     "duration": 0.042145,
     "end_time": "2022-03-29T12:40:43.186621",
     "exception": false,
     "start_time": "2022-03-29T12:40:43.144476",
     "status": "completed"
    },
    "tags": []
   },
   "outputs": [
    {
     "data": {
      "application/javascript": [
       "parent.postMessage({\"jupyterEvent\": \"custom.exercise_interaction\", \"data\": {\"interactionType\": 2, \"questionType\": 2, \"questionId\": \"2_Predictions\", \"learnToolsVersion\": \"0.3.4\", \"valueTowardsCompletion\": 0.0, \"failureMessage\": \"\", \"exceptionClass\": \"\", \"trace\": \"\", \"outcomeType\": 4}}, \"*\")"
      ],
      "text/plain": [
       "<IPython.core.display.Javascript object>"
      ]
     },
     "metadata": {},
     "output_type": "display_data"
    },
    {
     "data": {
      "text/markdown": [
       "<span style=\"color:#3366cc\">Hint:</span> You need only set `my_model` to a random forest model.  You are welcome (but not required) to choose one of the five models above."
      ],
      "text/plain": [
       "Hint: You need only set `my_model` to a random forest model.  You are welcome (but not required) to choose one of the five models above."
      ]
     },
     "metadata": {},
     "output_type": "display_data"
    },
    {
     "data": {
      "application/javascript": [
       "parent.postMessage({\"jupyterEvent\": \"custom.exercise_interaction\", \"data\": {\"interactionType\": 3, \"questionType\": 2, \"questionId\": \"2_Predictions\", \"learnToolsVersion\": \"0.3.4\", \"valueTowardsCompletion\": 0.0, \"failureMessage\": \"\", \"exceptionClass\": \"\", \"trace\": \"\", \"outcomeType\": 4}}, \"*\")"
      ],
      "text/plain": [
       "<IPython.core.display.Javascript object>"
      ]
     },
     "metadata": {},
     "output_type": "display_data"
    },
    {
     "data": {
      "text/markdown": [
       "<span style=\"color:#33cc99\">Solution:</span> \n",
       "```python\n",
       "# Define a model\n",
       "my_model = best_model\n",
       "\n",
       "```"
      ],
      "text/plain": [
       "Solution: \n",
       "```python\n",
       "# Define a model\n",
       "my_model = best_model\n",
       "\n",
       "```"
      ]
     },
     "metadata": {},
     "output_type": "display_data"
    }
   ],
   "source": [
    "# Lines below will give you a hint or solution code\n",
    "step_2.hint()\n",
    "step_2.solution()"
   ]
  },
  {
   "cell_type": "markdown",
   "id": "adb7a3d1",
   "metadata": {
    "papermill": {
     "duration": 0.029802,
     "end_time": "2022-03-29T12:40:43.246202",
     "exception": false,
     "start_time": "2022-03-29T12:40:43.216400",
     "status": "completed"
    },
    "tags": []
   },
   "source": [
    "Run the next code cell without changes.  The code fits the model to the training and validation data, and then generates test predictions that are saved to a CSV file.  These test predictions can be submitted directly to the competition!"
   ]
  },
  {
   "cell_type": "code",
   "execution_count": 10,
   "id": "369722c8",
   "metadata": {
    "execution": {
     "iopub.execute_input": "2022-03-29T12:40:43.309464Z",
     "iopub.status.busy": "2022-03-29T12:40:43.308462Z",
     "iopub.status.idle": "2022-03-29T12:40:43.879112Z",
     "shell.execute_reply": "2022-03-29T12:40:43.878531Z",
     "shell.execute_reply.started": "2022-03-29T12:39:25.449743Z"
    },
    "papermill": {
     "duration": 0.603263,
     "end_time": "2022-03-29T12:40:43.879266",
     "exception": false,
     "start_time": "2022-03-29T12:40:43.276003",
     "status": "completed"
    },
    "tags": []
   },
   "outputs": [],
   "source": [
    "# Fit the model to the training data\n",
    "my_model.fit(X, y)\n",
    "\n",
    "# Generate test predictions\n",
    "preds_test = my_model.predict(X_test)\n",
    "\n",
    "# Save predictions in format used for competition scoring\n",
    "output = pd.DataFrame({'Id': X_test.index,\n",
    "                       'SalePrice': preds_test})\n",
    "output.to_csv('submission.csv', index=False)"
   ]
  },
  {
   "cell_type": "code",
   "execution_count": 11,
   "id": "00091c18",
   "metadata": {
    "execution": {
     "iopub.execute_input": "2022-03-29T12:40:43.949488Z",
     "iopub.status.busy": "2022-03-29T12:40:43.948777Z",
     "iopub.status.idle": "2022-03-29T12:40:43.950223Z",
     "shell.execute_reply": "2022-03-29T12:40:43.950799Z",
     "shell.execute_reply.started": "2022-03-29T12:39:33.072265Z"
    },
    "papermill": {
     "duration": 0.0418,
     "end_time": "2022-03-29T12:40:43.950994",
     "exception": false,
     "start_time": "2022-03-29T12:40:43.909194",
     "status": "completed"
    },
    "tags": []
   },
   "outputs": [],
   "source": [
    "output.to_csv('submission.csv', index=False)"
   ]
  },
  {
   "cell_type": "markdown",
   "id": "d1f910af",
   "metadata": {
    "papermill": {
     "duration": 0.029987,
     "end_time": "2022-03-29T12:40:44.011016",
     "exception": false,
     "start_time": "2022-03-29T12:40:43.981029",
     "status": "completed"
    },
    "tags": []
   },
   "source": [
    "# Submit your results\n",
    "\n",
    "Once you have successfully completed Step 2, you're ready to submit your results to the leaderboard!  First, you'll need to join the competition if you haven't already.  So open a new window by clicking on [this link](https://www.kaggle.com/c/home-data-for-ml-course).  Then click on the **Join Competition** button.  _(If you see a \"Submit Predictions\" button instead of a \"Join Competition\" button, you have already joined the competition, and don't need to do so again.)_\n",
    "\n",
    "Next, follow the instructions below:\n",
    "1. Begin by clicking on the **Save Version** button in the top right corner of the window.  This will generate a pop-up window.  \n",
    "2. Ensure that the **Save and Run All** option is selected, and then click on the **Save** button.\n",
    "3. This generates a window in the bottom left corner of the notebook.  After it has finished running, click on the number to the right of the **Save Version** button.  This pulls up a list of versions on the right of the screen.  Click on the ellipsis **(...)** to the right of the most recent version, and select **Open in Viewer**.  This brings you into view mode of the same page. You will need to scroll down to get back to these instructions.\n",
    "4. Click on the **Output** tab on the right of the screen.  Then, click on the file you would like to submit, and click on the **Submit** button to submit your results to the leaderboard.\n",
    "\n",
    "You have now successfully submitted to the competition!\n",
    "\n",
    "If you want to keep working to improve your performance, select the **Edit** button in the top right of the screen. Then you can change your code and repeat the process. There's a lot of room to improve, and you will climb up the leaderboard as you work.\n"
   ]
  },
  {
   "cell_type": "markdown",
   "id": "3811bb32",
   "metadata": {
    "papermill": {
     "duration": 0.029473,
     "end_time": "2022-03-29T12:40:44.070371",
     "exception": false,
     "start_time": "2022-03-29T12:40:44.040898",
     "status": "completed"
    },
    "tags": []
   },
   "source": [
    "# Keep going\n",
    "\n",
    "You've made your first model. But how can you quickly make it better?\n",
    "\n",
    "Learn how to improve your competition results by incorporating columns with **[missing values](https://www.kaggle.com/alexisbcook/missing-values)**."
   ]
  },
  {
   "cell_type": "markdown",
   "id": "2c75db82",
   "metadata": {
    "papermill": {
     "duration": 0.029406,
     "end_time": "2022-03-29T12:40:44.129556",
     "exception": false,
     "start_time": "2022-03-29T12:40:44.100150",
     "status": "completed"
    },
    "tags": []
   },
   "source": [
    "---\n",
    "\n",
    "\n",
    "\n",
    "\n",
    "*Have questions or comments? Visit the [course discussion forum](https://www.kaggle.com/learn/intermediate-machine-learning/discussion) to chat with other learners.*"
   ]
  }
 ],
 "metadata": {
  "kernelspec": {
   "display_name": "Python 3",
   "language": "python",
   "name": "python3"
  },
  "language_info": {
   "codemirror_mode": {
    "name": "ipython",
    "version": 3
   },
   "file_extension": ".py",
   "mimetype": "text/x-python",
   "name": "python",
   "nbconvert_exporter": "python",
   "pygments_lexer": "ipython3",
   "version": "3.7.12"
  },
  "papermill": {
   "default_parameters": {},
   "duration": 18.727882,
   "end_time": "2022-03-29T12:40:44.869366",
   "environment_variables": {},
   "exception": null,
   "input_path": "__notebook__.ipynb",
   "output_path": "__notebook__.ipynb",
   "parameters": {},
   "start_time": "2022-03-29T12:40:26.141484",
   "version": "2.3.3"
  }
 },
 "nbformat": 4,
 "nbformat_minor": 5
}
