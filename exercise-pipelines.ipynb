{
 "cells": [
  {
   "cell_type": "markdown",
   "id": "6ff2ecdf",
   "metadata": {
    "papermill": {
     "duration": 0.021031,
     "end_time": "2022-03-05T11:01:11.567126",
     "exception": false,
     "start_time": "2022-03-05T11:01:11.546095",
     "status": "completed"
    },
    "tags": []
   },
   "source": [
    "**This notebook is an exercise in the [Intermediate Machine Learning](https://www.kaggle.com/learn/intermediate-machine-learning) course.  You can reference the tutorial at [this link](https://www.kaggle.com/alexisbcook/pipelines).**\n",
    "\n",
    "---\n"
   ]
  },
  {
   "cell_type": "markdown",
   "id": "babc1458",
   "metadata": {
    "papermill": {
     "duration": 0.019392,
     "end_time": "2022-03-05T11:01:11.606883",
     "exception": false,
     "start_time": "2022-03-05T11:01:11.587491",
     "status": "completed"
    },
    "tags": []
   },
   "source": [
    "In this exercise, you will use **pipelines** to improve the efficiency of your machine learning code.\n",
    "\n",
    "# Setup\n",
    "\n",
    "The questions below will give you feedback on your work. Run the following cell to set up the feedback system."
   ]
  },
  {
   "cell_type": "code",
   "execution_count": 1,
   "id": "41bff780",
   "metadata": {
    "execution": {
     "iopub.execute_input": "2022-03-05T11:01:11.652719Z",
     "iopub.status.busy": "2022-03-05T11:01:11.650910Z",
     "iopub.status.idle": "2022-03-05T11:01:12.732293Z",
     "shell.execute_reply": "2022-03-05T11:01:12.730793Z",
     "shell.execute_reply.started": "2022-03-05T10:56:58.991891Z"
    },
    "papermill": {
     "duration": 1.105952,
     "end_time": "2022-03-05T11:01:12.732661",
     "exception": false,
     "start_time": "2022-03-05T11:01:11.626709",
     "status": "completed"
    },
    "tags": []
   },
   "outputs": [
    {
     "name": "stdout",
     "output_type": "stream",
     "text": [
      "Setup Complete\n"
     ]
    }
   ],
   "source": [
    "# Set up code checking\n",
    "import os\n",
    "if not os.path.exists(\"../input/train.csv\"):\n",
    "    os.symlink(\"../input/home-data-for-ml-course/train.csv\", \"../input/train.csv\")  \n",
    "    os.symlink(\"../input/home-data-for-ml-course/test.csv\", \"../input/test.csv\") \n",
    "from learntools.core import binder\n",
    "binder.bind(globals())\n",
    "from learntools.ml_intermediate.ex4 import *\n",
    "print(\"Setup Complete\")"
   ]
  },
  {
   "cell_type": "markdown",
   "id": "c2f841af",
   "metadata": {
    "papermill": {
     "duration": 0.0201,
     "end_time": "2022-03-05T11:01:12.774879",
     "exception": false,
     "start_time": "2022-03-05T11:01:12.754779",
     "status": "completed"
    },
    "tags": []
   },
   "source": [
    "You will work with data from the [Housing Prices Competition for Kaggle Learn Users](https://www.kaggle.com/c/home-data-for-ml-course). \n",
    "\n",
    "![Ames Housing dataset image](https://i.imgur.com/lTJVG4e.png)\n",
    "\n",
    "Run the next code cell without changes to load the training and validation sets in `X_train`, `X_valid`, `y_train`, and `y_valid`.  The test set is loaded in `X_test`."
   ]
  },
  {
   "cell_type": "code",
   "execution_count": 2,
   "id": "8d60a22f",
   "metadata": {
    "execution": {
     "iopub.execute_input": "2022-03-05T11:01:12.825207Z",
     "iopub.status.busy": "2022-03-05T11:01:12.824513Z",
     "iopub.status.idle": "2022-03-05T11:01:13.009049Z",
     "shell.execute_reply": "2022-03-05T11:01:13.008439Z",
     "shell.execute_reply.started": "2022-03-05T10:56:59.011071Z"
    },
    "papermill": {
     "duration": 0.213313,
     "end_time": "2022-03-05T11:01:13.009190",
     "exception": false,
     "start_time": "2022-03-05T11:01:12.795877",
     "status": "completed"
    },
    "tags": []
   },
   "outputs": [],
   "source": [
    "import pandas as pd\n",
    "from sklearn.model_selection import train_test_split\n",
    "\n",
    "# Read the data\n",
    "X_full = pd.read_csv('../input/train.csv', index_col='Id')\n",
    "X_test_full = pd.read_csv('../input/test.csv', index_col='Id')\n",
    "\n",
    "# Remove rows with missing target, separate target from predictors\n",
    "X_full.dropna(axis=0, subset=['SalePrice'], inplace=True)\n",
    "y = X_full.SalePrice\n",
    "X_full.drop(['SalePrice'], axis=1, inplace=True)\n",
    "\n",
    "# Break off validation set from training data\n",
    "X_train_full, X_valid_full, y_train, y_valid = train_test_split(X_full, y, \n",
    "                                                                train_size=0.8, test_size=0.2,\n",
    "                                                                random_state=0)\n",
    "\n",
    "# \"Cardinality\" means the number of unique values in a column\n",
    "# Select categorical columns with relatively low cardinality (convenient but arbitrary)\n",
    "categorical_cols = [cname for cname in X_train_full.columns if\n",
    "                    X_train_full[cname].nunique() < 10 and \n",
    "                    X_train_full[cname].dtype == \"object\"]\n",
    "\n",
    "# Select numerical columns\n",
    "numerical_cols = [cname for cname in X_train_full.columns if \n",
    "                X_train_full[cname].dtype in ['int64', 'float64']]\n",
    "\n",
    "# Keep selected columns only\n",
    "my_cols = categorical_cols + numerical_cols\n",
    "X_train = X_train_full[my_cols].copy()\n",
    "X_valid = X_valid_full[my_cols].copy()\n",
    "X_test = X_test_full[my_cols].copy()"
   ]
  },
  {
   "cell_type": "code",
   "execution_count": 3,
   "id": "1edde1dd",
   "metadata": {
    "execution": {
     "iopub.execute_input": "2022-03-05T11:01:13.058785Z",
     "iopub.status.busy": "2022-03-05T11:01:13.058045Z",
     "iopub.status.idle": "2022-03-05T11:01:13.081470Z",
     "shell.execute_reply": "2022-03-05T11:01:13.080948Z",
     "shell.execute_reply.started": "2022-03-05T10:56:59.100597Z"
    },
    "papermill": {
     "duration": 0.05211,
     "end_time": "2022-03-05T11:01:13.081627",
     "exception": false,
     "start_time": "2022-03-05T11:01:13.029517",
     "status": "completed"
    },
    "tags": []
   },
   "outputs": [
    {
     "data": {
      "text/html": [
       "<div>\n",
       "<style scoped>\n",
       "    .dataframe tbody tr th:only-of-type {\n",
       "        vertical-align: middle;\n",
       "    }\n",
       "\n",
       "    .dataframe tbody tr th {\n",
       "        vertical-align: top;\n",
       "    }\n",
       "\n",
       "    .dataframe thead th {\n",
       "        text-align: right;\n",
       "    }\n",
       "</style>\n",
       "<table border=\"1\" class=\"dataframe\">\n",
       "  <thead>\n",
       "    <tr style=\"text-align: right;\">\n",
       "      <th></th>\n",
       "      <th>MSZoning</th>\n",
       "      <th>Street</th>\n",
       "      <th>Alley</th>\n",
       "      <th>LotShape</th>\n",
       "      <th>LandContour</th>\n",
       "      <th>Utilities</th>\n",
       "      <th>LotConfig</th>\n",
       "      <th>LandSlope</th>\n",
       "      <th>Condition1</th>\n",
       "      <th>Condition2</th>\n",
       "      <th>...</th>\n",
       "      <th>GarageArea</th>\n",
       "      <th>WoodDeckSF</th>\n",
       "      <th>OpenPorchSF</th>\n",
       "      <th>EnclosedPorch</th>\n",
       "      <th>3SsnPorch</th>\n",
       "      <th>ScreenPorch</th>\n",
       "      <th>PoolArea</th>\n",
       "      <th>MiscVal</th>\n",
       "      <th>MoSold</th>\n",
       "      <th>YrSold</th>\n",
       "    </tr>\n",
       "    <tr>\n",
       "      <th>Id</th>\n",
       "      <th></th>\n",
       "      <th></th>\n",
       "      <th></th>\n",
       "      <th></th>\n",
       "      <th></th>\n",
       "      <th></th>\n",
       "      <th></th>\n",
       "      <th></th>\n",
       "      <th></th>\n",
       "      <th></th>\n",
       "      <th></th>\n",
       "      <th></th>\n",
       "      <th></th>\n",
       "      <th></th>\n",
       "      <th></th>\n",
       "      <th></th>\n",
       "      <th></th>\n",
       "      <th></th>\n",
       "      <th></th>\n",
       "      <th></th>\n",
       "      <th></th>\n",
       "    </tr>\n",
       "  </thead>\n",
       "  <tbody>\n",
       "    <tr>\n",
       "      <th>619</th>\n",
       "      <td>RL</td>\n",
       "      <td>Pave</td>\n",
       "      <td>NaN</td>\n",
       "      <td>Reg</td>\n",
       "      <td>Lvl</td>\n",
       "      <td>AllPub</td>\n",
       "      <td>Inside</td>\n",
       "      <td>Gtl</td>\n",
       "      <td>Norm</td>\n",
       "      <td>Norm</td>\n",
       "      <td>...</td>\n",
       "      <td>774</td>\n",
       "      <td>0</td>\n",
       "      <td>108</td>\n",
       "      <td>0</td>\n",
       "      <td>0</td>\n",
       "      <td>260</td>\n",
       "      <td>0</td>\n",
       "      <td>0</td>\n",
       "      <td>7</td>\n",
       "      <td>2007</td>\n",
       "    </tr>\n",
       "    <tr>\n",
       "      <th>871</th>\n",
       "      <td>RL</td>\n",
       "      <td>Pave</td>\n",
       "      <td>NaN</td>\n",
       "      <td>Reg</td>\n",
       "      <td>Lvl</td>\n",
       "      <td>AllPub</td>\n",
       "      <td>Inside</td>\n",
       "      <td>Gtl</td>\n",
       "      <td>PosN</td>\n",
       "      <td>Norm</td>\n",
       "      <td>...</td>\n",
       "      <td>308</td>\n",
       "      <td>0</td>\n",
       "      <td>0</td>\n",
       "      <td>0</td>\n",
       "      <td>0</td>\n",
       "      <td>0</td>\n",
       "      <td>0</td>\n",
       "      <td>0</td>\n",
       "      <td>8</td>\n",
       "      <td>2009</td>\n",
       "    </tr>\n",
       "    <tr>\n",
       "      <th>93</th>\n",
       "      <td>RL</td>\n",
       "      <td>Pave</td>\n",
       "      <td>Grvl</td>\n",
       "      <td>IR1</td>\n",
       "      <td>HLS</td>\n",
       "      <td>AllPub</td>\n",
       "      <td>Inside</td>\n",
       "      <td>Gtl</td>\n",
       "      <td>Norm</td>\n",
       "      <td>Norm</td>\n",
       "      <td>...</td>\n",
       "      <td>432</td>\n",
       "      <td>0</td>\n",
       "      <td>0</td>\n",
       "      <td>44</td>\n",
       "      <td>0</td>\n",
       "      <td>0</td>\n",
       "      <td>0</td>\n",
       "      <td>0</td>\n",
       "      <td>8</td>\n",
       "      <td>2009</td>\n",
       "    </tr>\n",
       "    <tr>\n",
       "      <th>818</th>\n",
       "      <td>RL</td>\n",
       "      <td>Pave</td>\n",
       "      <td>NaN</td>\n",
       "      <td>IR1</td>\n",
       "      <td>Lvl</td>\n",
       "      <td>AllPub</td>\n",
       "      <td>CulDSac</td>\n",
       "      <td>Gtl</td>\n",
       "      <td>Norm</td>\n",
       "      <td>Norm</td>\n",
       "      <td>...</td>\n",
       "      <td>857</td>\n",
       "      <td>150</td>\n",
       "      <td>59</td>\n",
       "      <td>0</td>\n",
       "      <td>0</td>\n",
       "      <td>0</td>\n",
       "      <td>0</td>\n",
       "      <td>0</td>\n",
       "      <td>7</td>\n",
       "      <td>2008</td>\n",
       "    </tr>\n",
       "    <tr>\n",
       "      <th>303</th>\n",
       "      <td>RL</td>\n",
       "      <td>Pave</td>\n",
       "      <td>NaN</td>\n",
       "      <td>IR1</td>\n",
       "      <td>Lvl</td>\n",
       "      <td>AllPub</td>\n",
       "      <td>Corner</td>\n",
       "      <td>Gtl</td>\n",
       "      <td>Norm</td>\n",
       "      <td>Norm</td>\n",
       "      <td>...</td>\n",
       "      <td>843</td>\n",
       "      <td>468</td>\n",
       "      <td>81</td>\n",
       "      <td>0</td>\n",
       "      <td>0</td>\n",
       "      <td>0</td>\n",
       "      <td>0</td>\n",
       "      <td>0</td>\n",
       "      <td>1</td>\n",
       "      <td>2006</td>\n",
       "    </tr>\n",
       "  </tbody>\n",
       "</table>\n",
       "<p>5 rows × 76 columns</p>\n",
       "</div>"
      ],
      "text/plain": [
       "    MSZoning Street Alley LotShape LandContour Utilities LotConfig LandSlope  \\\n",
       "Id                                                                             \n",
       "619       RL   Pave   NaN      Reg         Lvl    AllPub    Inside       Gtl   \n",
       "871       RL   Pave   NaN      Reg         Lvl    AllPub    Inside       Gtl   \n",
       "93        RL   Pave  Grvl      IR1         HLS    AllPub    Inside       Gtl   \n",
       "818       RL   Pave   NaN      IR1         Lvl    AllPub   CulDSac       Gtl   \n",
       "303       RL   Pave   NaN      IR1         Lvl    AllPub    Corner       Gtl   \n",
       "\n",
       "    Condition1 Condition2  ... GarageArea WoodDeckSF OpenPorchSF  \\\n",
       "Id                         ...                                     \n",
       "619       Norm       Norm  ...        774          0         108   \n",
       "871       PosN       Norm  ...        308          0           0   \n",
       "93        Norm       Norm  ...        432          0           0   \n",
       "818       Norm       Norm  ...        857        150          59   \n",
       "303       Norm       Norm  ...        843        468          81   \n",
       "\n",
       "    EnclosedPorch 3SsnPorch ScreenPorch PoolArea MiscVal MoSold YrSold  \n",
       "Id                                                                      \n",
       "619             0         0         260        0       0      7   2007  \n",
       "871             0         0           0        0       0      8   2009  \n",
       "93             44         0           0        0       0      8   2009  \n",
       "818             0         0           0        0       0      7   2008  \n",
       "303             0         0           0        0       0      1   2006  \n",
       "\n",
       "[5 rows x 76 columns]"
      ]
     },
     "execution_count": 3,
     "metadata": {},
     "output_type": "execute_result"
    }
   ],
   "source": [
    "X_train.head()"
   ]
  },
  {
   "cell_type": "markdown",
   "id": "b18a5794",
   "metadata": {
    "papermill": {
     "duration": 0.020806,
     "end_time": "2022-03-05T11:01:13.123420",
     "exception": false,
     "start_time": "2022-03-05T11:01:13.102614",
     "status": "completed"
    },
    "tags": []
   },
   "source": [
    "The next code cell uses code from the tutorial to preprocess the data and train a model.  Run this code without changes."
   ]
  },
  {
   "cell_type": "code",
   "execution_count": 4,
   "id": "37e0afd9",
   "metadata": {
    "execution": {
     "iopub.execute_input": "2022-03-05T11:01:13.172407Z",
     "iopub.status.busy": "2022-03-05T11:01:13.171756Z",
     "iopub.status.idle": "2022-03-05T11:01:13.177106Z",
     "shell.execute_reply": "2022-03-05T11:01:13.176593Z",
     "shell.execute_reply.started": "2022-03-05T10:56:59.128106Z"
    },
    "papermill": {
     "duration": 0.032773,
     "end_time": "2022-03-05T11:01:13.177269",
     "exception": false,
     "start_time": "2022-03-05T11:01:13.144496",
     "status": "completed"
    },
    "tags": []
   },
   "outputs": [
    {
     "data": {
      "text/plain": [
       "array([['RL', 'Pave', nan, ..., 0, 7, 2007],\n",
       "       ['RL', 'Pave', nan, ..., 0, 8, 2009],\n",
       "       ['RL', 'Pave', 'Grvl', ..., 0, 8, 2009],\n",
       "       ...,\n",
       "       ['RM', 'Pave', nan, ..., 0, 4, 2010],\n",
       "       ['RL', 'Pave', nan, ..., 0, 10, 2006],\n",
       "       ['RL', 'Pave', nan, ..., 0, 6, 2010]], dtype=object)"
      ]
     },
     "execution_count": 4,
     "metadata": {},
     "output_type": "execute_result"
    }
   ],
   "source": [
    "X_train.values"
   ]
  },
  {
   "cell_type": "code",
   "execution_count": 5,
   "id": "087542be",
   "metadata": {
    "execution": {
     "iopub.execute_input": "2022-03-05T11:01:13.228173Z",
     "iopub.status.busy": "2022-03-05T11:01:13.227484Z",
     "iopub.status.idle": "2022-03-05T11:01:13.440163Z",
     "shell.execute_reply": "2022-03-05T11:01:13.439567Z",
     "shell.execute_reply.started": "2022-03-05T10:56:59.350190Z"
    },
    "papermill": {
     "duration": 0.241561,
     "end_time": "2022-03-05T11:01:13.440316",
     "exception": false,
     "start_time": "2022-03-05T11:01:13.198755",
     "status": "completed"
    },
    "tags": []
   },
   "outputs": [],
   "source": [
    "from sklearn.compose import ColumnTransformer\n",
    "from sklearn.pipeline import Pipeline\n",
    "from sklearn.impute import SimpleImputer\n",
    "from sklearn.preprocessing import OneHotEncoder\n",
    "from sklearn.ensemble import RandomForestRegressor\n",
    "from sklearn.metrics import mean_absolute_error\n",
    "\n",
    "# Preprocessing for numerical data\n",
    "numerical_transformer = SimpleImputer(strategy='constant')\n",
    "\n",
    "# Preprocessing for categorical data\n",
    "categorical_transformer = Pipeline(steps=[\n",
    "    ('imputer', SimpleImputer(strategy='most_frequent')),\n",
    "    ('onehot', OneHotEncoder(handle_unknown='ignore'))\n",
    "])\n",
    "\n",
    "# Bundle preprocessing for numerical and categorical data\n",
    "preprocessor = ColumnTransformer(\n",
    "    transformers=[\n",
    "        ('num', numerical_transformer, numerical_cols),\n",
    "        ('cat', categorical_transformer, categorical_cols)\n",
    "    ])\n",
    "\n",
    "# Define model\n",
    "model = RandomForestRegressor(n_estimators=100, random_state=0)\n",
    "\n",
    "# Bundle preprocessing and modeling code in a pipeline\n",
    "clf = Pipeline(steps=[('preprocessor', preprocessor),\n",
    "                      ('model', model)\n",
    "                     ])\n",
    "\n"
   ]
  },
  {
   "cell_type": "code",
   "execution_count": 6,
   "id": "753656e1",
   "metadata": {
    "execution": {
     "iopub.execute_input": "2022-03-05T11:01:13.494340Z",
     "iopub.status.busy": "2022-03-05T11:01:13.487145Z",
     "iopub.status.idle": "2022-03-05T11:01:15.807378Z",
     "shell.execute_reply": "2022-03-05T11:01:15.806735Z",
     "shell.execute_reply.started": "2022-03-05T10:56:59.361761Z"
    },
    "papermill": {
     "duration": 2.345586,
     "end_time": "2022-03-05T11:01:15.807537",
     "exception": false,
     "start_time": "2022-03-05T11:01:13.461951",
     "status": "completed"
    },
    "tags": []
   },
   "outputs": [
    {
     "name": "stdout",
     "output_type": "stream",
     "text": [
      "MAE: 17861.780102739725\n"
     ]
    }
   ],
   "source": [
    "# Preprocessing of training data, fit model \n",
    "clf.fit(X_train, y_train)\n",
    "\n",
    "# Preprocessing of validation data, get predictions\n",
    "preds = clf.predict(X_valid)\n",
    "\n",
    "print('MAE:', mean_absolute_error(y_valid, preds))"
   ]
  },
  {
   "cell_type": "markdown",
   "id": "11c50836",
   "metadata": {
    "papermill": {
     "duration": 0.023817,
     "end_time": "2022-03-05T11:01:15.853402",
     "exception": false,
     "start_time": "2022-03-05T11:01:15.829585",
     "status": "completed"
    },
    "tags": []
   },
   "source": [
    "The code yields a value around 17862 for the mean absolute error (MAE).  In the next step, you will amend the code to do better.\n",
    "\n",
    "# Step 1: Improve the performance\n",
    "\n",
    "### Part A\n",
    "\n",
    "Now, it's your turn!  In the code cell below, define your own preprocessing steps and random forest model.  Fill in values for the following variables:\n",
    "- `numerical_transformer`\n",
    "- `categorical_transformer`\n",
    "- `model`\n",
    "\n",
    "To pass this part of the exercise, you need only define valid preprocessing steps and a random forest model."
   ]
  },
  {
   "cell_type": "code",
   "execution_count": 7,
   "id": "15025074",
   "metadata": {
    "execution": {
     "iopub.execute_input": "2022-03-05T11:01:15.905884Z",
     "iopub.status.busy": "2022-03-05T11:01:15.904859Z",
     "iopub.status.idle": "2022-03-05T11:01:15.909834Z",
     "shell.execute_reply": "2022-03-05T11:01:15.910307Z",
     "shell.execute_reply.started": "2022-03-05T10:57:01.647103Z"
    },
    "papermill": {
     "duration": 0.035155,
     "end_time": "2022-03-05T11:01:15.910518",
     "exception": false,
     "start_time": "2022-03-05T11:01:15.875363",
     "status": "completed"
    },
    "tags": []
   },
   "outputs": [
    {
     "data": {
      "application/javascript": [
       "parent.postMessage({\"jupyterEvent\": \"custom.exercise_interaction\", \"data\": {\"outcomeType\": 1, \"valueTowardsCompletion\": 1.0, \"interactionType\": 1, \"questionType\": 2, \"questionId\": \"1.1_YourTurnModel\", \"learnToolsVersion\": \"0.3.4\", \"failureMessage\": \"\", \"exceptionClass\": \"\", \"trace\": \"\"}}, \"*\")"
      ],
      "text/plain": [
       "<IPython.core.display.Javascript object>"
      ]
     },
     "metadata": {},
     "output_type": "display_data"
    },
    {
     "data": {
      "text/markdown": [
       "<span style=\"color:#33cc33\">Correct</span>"
      ],
      "text/plain": [
       "Correct"
      ]
     },
     "metadata": {},
     "output_type": "display_data"
    }
   ],
   "source": [
    "# Preprocessing for numerical data\n",
    "numerical_transformer =SimpleImputer(strategy='constant')\n",
    "\n",
    "# Preprocessing for categorical data\n",
    "categorical_transformer = Pipeline(steps=[\n",
    "    ('imputer', SimpleImputer(strategy='constant')),\n",
    "    ('onehot', OneHotEncoder(handle_unknown='ignore'))\n",
    "])\n",
    "# Bundle preprocessing for numerical and categorical data\n",
    "preprocessor = ColumnTransformer(\n",
    "    transformers=[\n",
    "        ('num', numerical_transformer, numerical_cols),\n",
    "        ('cat', categorical_transformer, categorical_cols)\n",
    "    ])\n",
    "\n",
    "# Define model\n",
    "model = RandomForestRegressor(n_estimators=100, random_state=0)\n",
    "\n",
    "# Check your answer\n",
    "step_1.a.check()"
   ]
  },
  {
   "cell_type": "code",
   "execution_count": 8,
   "id": "4ba08107",
   "metadata": {
    "execution": {
     "iopub.execute_input": "2022-03-05T11:01:15.963084Z",
     "iopub.status.busy": "2022-03-05T11:01:15.962103Z",
     "iopub.status.idle": "2022-03-05T11:01:15.967955Z",
     "shell.execute_reply": "2022-03-05T11:01:15.967287Z",
     "shell.execute_reply.started": "2022-03-05T10:57:01.659818Z"
    },
    "papermill": {
     "duration": 0.033895,
     "end_time": "2022-03-05T11:01:15.968097",
     "exception": false,
     "start_time": "2022-03-05T11:01:15.934202",
     "status": "completed"
    },
    "tags": []
   },
   "outputs": [
    {
     "data": {
      "application/javascript": [
       "parent.postMessage({\"jupyterEvent\": \"custom.exercise_interaction\", \"data\": {\"interactionType\": 3, \"questionType\": 2, \"questionId\": \"1.1_YourTurnModel\", \"learnToolsVersion\": \"0.3.4\", \"valueTowardsCompletion\": 0.0, \"failureMessage\": \"\", \"exceptionClass\": \"\", \"trace\": \"\", \"outcomeType\": 4}}, \"*\")"
      ],
      "text/plain": [
       "<IPython.core.display.Javascript object>"
      ]
     },
     "metadata": {},
     "output_type": "display_data"
    },
    {
     "data": {
      "text/markdown": [
       "<span style=\"color:#33cc99\">Solution:</span> \n",
       "```python\n",
       "# Preprocessing for numerical data\n",
       "numerical_transformer = SimpleImputer(strategy='constant')\n",
       "\n",
       "# Preprocessing for categorical data\n",
       "categorical_transformer = Pipeline(steps=[\n",
       "    ('imputer', SimpleImputer(strategy='constant')),\n",
       "    ('onehot', OneHotEncoder(handle_unknown='ignore'))\n",
       "])\n",
       "\n",
       "# Bundle preprocessing for numerical and categorical data\n",
       "preprocessor = ColumnTransformer(\n",
       "    transformers=[\n",
       "        ('num', numerical_transformer, numerical_cols),\n",
       "        ('cat', categorical_transformer, categorical_cols)\n",
       "    ])\n",
       "\n",
       "# Define model\n",
       "model = RandomForestRegressor(n_estimators=100, random_state=0)\n",
       "\n",
       "```"
      ],
      "text/plain": [
       "Solution: \n",
       "```python\n",
       "# Preprocessing for numerical data\n",
       "numerical_transformer = SimpleImputer(strategy='constant')\n",
       "\n",
       "# Preprocessing for categorical data\n",
       "categorical_transformer = Pipeline(steps=[\n",
       "    ('imputer', SimpleImputer(strategy='constant')),\n",
       "    ('onehot', OneHotEncoder(handle_unknown='ignore'))\n",
       "])\n",
       "\n",
       "# Bundle preprocessing for numerical and categorical data\n",
       "preprocessor = ColumnTransformer(\n",
       "    transformers=[\n",
       "        ('num', numerical_transformer, numerical_cols),\n",
       "        ('cat', categorical_transformer, categorical_cols)\n",
       "    ])\n",
       "\n",
       "# Define model\n",
       "model = RandomForestRegressor(n_estimators=100, random_state=0)\n",
       "\n",
       "```"
      ]
     },
     "metadata": {},
     "output_type": "display_data"
    }
   ],
   "source": [
    "# Lines below will give you a hint or solution code\n",
    "#step_1.a.hint()\n",
    "step_1.a.solution()"
   ]
  },
  {
   "cell_type": "markdown",
   "id": "bd3df72d",
   "metadata": {
    "papermill": {
     "duration": 0.024746,
     "end_time": "2022-03-05T11:01:16.017269",
     "exception": false,
     "start_time": "2022-03-05T11:01:15.992523",
     "status": "completed"
    },
    "tags": []
   },
   "source": [
    "### Part B\n",
    "\n",
    "Run the code cell below without changes.\n",
    "\n",
    "To pass this step, you need to have defined a pipeline in **Part A** that achieves lower MAE than the code above.  You're encouraged to take your time here and try out many different approaches, to see how low you can get the MAE!  (_If your code does not pass, please amend the preprocessing steps and model in Part A._)"
   ]
  },
  {
   "cell_type": "code",
   "execution_count": 9,
   "id": "dd514b00",
   "metadata": {
    "execution": {
     "iopub.execute_input": "2022-03-05T11:01:16.088252Z",
     "iopub.status.busy": "2022-03-05T11:01:16.087251Z",
     "iopub.status.idle": "2022-03-05T11:01:18.436599Z",
     "shell.execute_reply": "2022-03-05T11:01:18.436068Z",
     "shell.execute_reply.started": "2022-03-05T10:57:01.675022Z"
    },
    "papermill": {
     "duration": 2.394767,
     "end_time": "2022-03-05T11:01:18.436747",
     "exception": false,
     "start_time": "2022-03-05T11:01:16.041980",
     "status": "completed"
    },
    "tags": []
   },
   "outputs": [
    {
     "name": "stdout",
     "output_type": "stream",
     "text": [
      "MAE: 17621.3197260274\n"
     ]
    },
    {
     "data": {
      "application/javascript": [
       "parent.postMessage({\"jupyterEvent\": \"custom.exercise_interaction\", \"data\": {\"outcomeType\": 1, \"valueTowardsCompletion\": 1.0, \"interactionType\": 1, \"questionType\": 2, \"questionId\": \"1.2_YourTurnPredict\", \"learnToolsVersion\": \"0.3.4\", \"failureMessage\": \"\", \"exceptionClass\": \"\", \"trace\": \"\"}}, \"*\")"
      ],
      "text/plain": [
       "<IPython.core.display.Javascript object>"
      ]
     },
     "metadata": {},
     "output_type": "display_data"
    },
    {
     "data": {
      "text/markdown": [
       "<span style=\"color:#33cc33\">Correct</span>"
      ],
      "text/plain": [
       "Correct"
      ]
     },
     "metadata": {},
     "output_type": "display_data"
    }
   ],
   "source": [
    "# Bundle preprocessing and modeling code in a pipeline\n",
    "my_pipeline = Pipeline(steps=[('preprocessor', preprocessor),\n",
    "                              ('model', model)\n",
    "                             ])\n",
    "\n",
    "# Preprocessing of training data, fit model \n",
    "my_pipeline.fit(X_train, y_train)\n",
    "\n",
    "# Preprocessing of validation data, get predictions\n",
    "preds = my_pipeline.predict(X_valid)\n",
    "\n",
    "# Evaluate the model\n",
    "score = mean_absolute_error(y_valid, preds)\n",
    "print('MAE:', score)\n",
    "\n",
    "# Check your answer\n",
    "step_1.b.check()"
   ]
  },
  {
   "cell_type": "code",
   "execution_count": 10,
   "id": "e2c82ab2",
   "metadata": {
    "execution": {
     "iopub.execute_input": "2022-03-05T11:01:18.494030Z",
     "iopub.status.busy": "2022-03-05T11:01:18.493269Z",
     "iopub.status.idle": "2022-03-05T11:01:18.497890Z",
     "shell.execute_reply": "2022-03-05T11:01:18.497252Z",
     "shell.execute_reply.started": "2022-03-05T10:57:04.078406Z"
    },
    "papermill": {
     "duration": 0.035215,
     "end_time": "2022-03-05T11:01:18.498026",
     "exception": false,
     "start_time": "2022-03-05T11:01:18.462811",
     "status": "completed"
    },
    "tags": []
   },
   "outputs": [
    {
     "data": {
      "application/javascript": [
       "parent.postMessage({\"jupyterEvent\": \"custom.exercise_interaction\", \"data\": {\"interactionType\": 2, \"questionType\": 2, \"questionId\": \"1.2_YourTurnPredict\", \"learnToolsVersion\": \"0.3.4\", \"valueTowardsCompletion\": 0.0, \"failureMessage\": \"\", \"exceptionClass\": \"\", \"trace\": \"\", \"outcomeType\": 4}}, \"*\")"
      ],
      "text/plain": [
       "<IPython.core.display.Javascript object>"
      ]
     },
     "metadata": {},
     "output_type": "display_data"
    },
    {
     "data": {
      "text/markdown": [
       "<span style=\"color:#3366cc\">Hint:</span> Please see the hint from Part A to get some ideas for how to change the preprocessing steps and model to get better performance."
      ],
      "text/plain": [
       "Hint: Please see the hint from Part A to get some ideas for how to change the preprocessing steps and model to get better performance."
      ]
     },
     "metadata": {},
     "output_type": "display_data"
    }
   ],
   "source": [
    "# Line below will give you a hint\n",
    "step_1.b.hint()"
   ]
  },
  {
   "cell_type": "markdown",
   "id": "cfea63b5",
   "metadata": {
    "papermill": {
     "duration": 0.026763,
     "end_time": "2022-03-05T11:01:18.551856",
     "exception": false,
     "start_time": "2022-03-05T11:01:18.525093",
     "status": "completed"
    },
    "tags": []
   },
   "source": [
    "# Step 2: Generate test predictions\n",
    "\n",
    "Now, you'll use your trained model to generate predictions with the test data."
   ]
  },
  {
   "cell_type": "code",
   "execution_count": 11,
   "id": "a0361e53",
   "metadata": {
    "execution": {
     "iopub.execute_input": "2022-03-05T11:01:18.614001Z",
     "iopub.status.busy": "2022-03-05T11:01:18.613296Z",
     "iopub.status.idle": "2022-03-05T11:01:18.690974Z",
     "shell.execute_reply": "2022-03-05T11:01:18.691567Z",
     "shell.execute_reply.started": "2022-03-05T10:57:04.088011Z"
    },
    "papermill": {
     "duration": 0.112925,
     "end_time": "2022-03-05T11:01:18.691745",
     "exception": false,
     "start_time": "2022-03-05T11:01:18.578820",
     "status": "completed"
    },
    "tags": []
   },
   "outputs": [
    {
     "data": {
      "application/javascript": [
       "parent.postMessage({\"jupyterEvent\": \"custom.exercise_interaction\", \"data\": {\"outcomeType\": 1, \"valueTowardsCompletion\": 1.0, \"interactionType\": 1, \"questionType\": 2, \"questionId\": \"2_TestPreds\", \"learnToolsVersion\": \"0.3.4\", \"failureMessage\": \"\", \"exceptionClass\": \"\", \"trace\": \"\"}}, \"*\")"
      ],
      "text/plain": [
       "<IPython.core.display.Javascript object>"
      ]
     },
     "metadata": {},
     "output_type": "display_data"
    },
    {
     "data": {
      "text/markdown": [
       "<span style=\"color:#33cc33\">Correct</span>"
      ],
      "text/plain": [
       "Correct"
      ]
     },
     "metadata": {},
     "output_type": "display_data"
    }
   ],
   "source": [
    "# Preprocessing of test data, fit model\n",
    "preds_test = my_pipeline.predict(X_test)\n",
    "\n",
    "# Check your answer\n",
    "step_2.check()"
   ]
  },
  {
   "cell_type": "code",
   "execution_count": 12,
   "id": "59a75621",
   "metadata": {
    "execution": {
     "iopub.execute_input": "2022-03-05T11:01:18.756992Z",
     "iopub.status.busy": "2022-03-05T11:01:18.755644Z",
     "iopub.status.idle": "2022-03-05T11:01:18.761543Z",
     "shell.execute_reply": "2022-03-05T11:01:18.762041Z",
     "shell.execute_reply.started": "2022-03-05T10:57:04.177436Z"
    },
    "papermill": {
     "duration": 0.041965,
     "end_time": "2022-03-05T11:01:18.762202",
     "exception": false,
     "start_time": "2022-03-05T11:01:18.720237",
     "status": "completed"
    },
    "tags": []
   },
   "outputs": [
    {
     "data": {
      "application/javascript": [
       "parent.postMessage({\"jupyterEvent\": \"custom.exercise_interaction\", \"data\": {\"interactionType\": 3, \"questionType\": 2, \"questionId\": \"2_TestPreds\", \"learnToolsVersion\": \"0.3.4\", \"valueTowardsCompletion\": 0.0, \"failureMessage\": \"\", \"exceptionClass\": \"\", \"trace\": \"\", \"outcomeType\": 4}}, \"*\")"
      ],
      "text/plain": [
       "<IPython.core.display.Javascript object>"
      ]
     },
     "metadata": {},
     "output_type": "display_data"
    },
    {
     "data": {
      "text/markdown": [
       "<span style=\"color:#33cc99\">Solution:</span> \n",
       "```python\n",
       "# Preprocessing of test data, fit model\n",
       "preds_test = my_pipeline.predict(X_test)\n",
       "\n",
       "```"
      ],
      "text/plain": [
       "Solution: \n",
       "```python\n",
       "# Preprocessing of test data, fit model\n",
       "preds_test = my_pipeline.predict(X_test)\n",
       "\n",
       "```"
      ]
     },
     "metadata": {},
     "output_type": "display_data"
    }
   ],
   "source": [
    "# Lines below will give you a hint or solution code\n",
    "#step_2.hint()\n",
    "step_2.solution()"
   ]
  },
  {
   "cell_type": "markdown",
   "id": "fc7ec816",
   "metadata": {
    "papermill": {
     "duration": 0.029725,
     "end_time": "2022-03-05T11:01:18.822040",
     "exception": false,
     "start_time": "2022-03-05T11:01:18.792315",
     "status": "completed"
    },
    "tags": []
   },
   "source": [
    "Run the next code cell without changes to save your results to a CSV file that can be submitted directly to the competition."
   ]
  },
  {
   "cell_type": "code",
   "execution_count": 13,
   "id": "64f0afac",
   "metadata": {
    "execution": {
     "iopub.execute_input": "2022-03-05T11:01:18.886419Z",
     "iopub.status.busy": "2022-03-05T11:01:18.884129Z",
     "iopub.status.idle": "2022-03-05T11:01:18.895764Z",
     "shell.execute_reply": "2022-03-05T11:01:18.896321Z",
     "shell.execute_reply.started": "2022-03-05T10:57:04.187108Z"
    },
    "papermill": {
     "duration": 0.044708,
     "end_time": "2022-03-05T11:01:18.896524",
     "exception": false,
     "start_time": "2022-03-05T11:01:18.851816",
     "status": "completed"
    },
    "tags": []
   },
   "outputs": [],
   "source": [
    "# Save test predictions to file\n",
    "output = pd.DataFrame({'Id': X_test.index,\n",
    "                       'SalePrice': preds_test})\n",
    "output.to_csv('submission.csv', index=False)"
   ]
  },
  {
   "cell_type": "markdown",
   "id": "5d919f78",
   "metadata": {
    "papermill": {
     "duration": 0.029178,
     "end_time": "2022-03-05T11:01:18.955388",
     "exception": false,
     "start_time": "2022-03-05T11:01:18.926210",
     "status": "completed"
    },
    "tags": []
   },
   "source": [
    "# Submit your results\n",
    "\n",
    "Once you have successfully completed Step 2, you're ready to submit your results to the leaderboard!  If you choose to do so, make sure that you have already joined the competition by clicking on the **Join Competition** button at [this link](https://www.kaggle.com/c/home-data-for-ml-course).  \n",
    "1. Begin by clicking on the **Save Version** button in the top right corner of the window.  This will generate a pop-up window.  \n",
    "2. Ensure that the **Save and Run All** option is selected, and then click on the **Save** button.\n",
    "3. This generates a window in the bottom left corner of the notebook.  After it has finished running, click on the number to the right of the **Save Version** button.  This pulls up a list of versions on the right of the screen.  Click on the ellipsis **(...)** to the right of the most recent version, and select **Open in Viewer**.  This brings you into view mode of the same page. You will need to scroll down to get back to these instructions.\n",
    "4. Click on the **Output** tab on the right of the screen.  Then, click on the file you would like to submit, and click on the **Submit** button to submit your results to the leaderboard.\n",
    "\n",
    "You have now successfully submitted to the competition!\n",
    "\n",
    "If you want to keep working to improve your performance, select the **Edit** button in the top right of the screen. Then you can change your code and repeat the process. There's a lot of room to improve, and you will climb up the leaderboard as you work.\n",
    "\n",
    "\n",
    "# Keep going\n",
    "\n",
    "Move on to learn about [**cross-validation**](https://www.kaggle.com/alexisbcook/cross-validation), a technique you can use to obtain more accurate estimates of model performance!"
   ]
  },
  {
   "cell_type": "markdown",
   "id": "4d05cada",
   "metadata": {
    "papermill": {
     "duration": 0.029229,
     "end_time": "2022-03-05T11:01:19.014627",
     "exception": false,
     "start_time": "2022-03-05T11:01:18.985398",
     "status": "completed"
    },
    "tags": []
   },
   "source": [
    "---\n",
    "\n",
    "\n",
    "\n",
    "\n",
    "*Have questions or comments? Visit the [course discussion forum](https://www.kaggle.com/learn/intermediate-machine-learning/discussion) to chat with other learners.*"
   ]
  }
 ],
 "metadata": {
  "kernelspec": {
   "display_name": "Python 3",
   "language": "python",
   "name": "python3"
  },
  "language_info": {
   "codemirror_mode": {
    "name": "ipython",
    "version": 3
   },
   "file_extension": ".py",
   "mimetype": "text/x-python",
   "name": "python",
   "nbconvert_exporter": "python",
   "pygments_lexer": "ipython3",
   "version": "3.7.12"
  },
  "papermill": {
   "default_parameters": {},
   "duration": 18.25262,
   "end_time": "2022-03-05T11:01:19.754518",
   "environment_variables": {},
   "exception": null,
   "input_path": "__notebook__.ipynb",
   "output_path": "__notebook__.ipynb",
   "parameters": {},
   "start_time": "2022-03-05T11:01:01.501898",
   "version": "2.3.3"
  }
 },
 "nbformat": 4,
 "nbformat_minor": 5
}
